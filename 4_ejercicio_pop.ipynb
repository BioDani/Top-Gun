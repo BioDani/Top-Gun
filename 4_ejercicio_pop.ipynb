{
 "cells": [
  {
   "cell_type": "code",
   "execution_count": 26,
   "metadata": {},
   "outputs": [],
   "source": [
    "class Auto:\n",
    "    marca = \"\"\n",
    "    modelo = \"\"\n",
    "    año = 0\n",
    "    velocidad = 0\n",
    "    \n",
    "    def __init__(self, marca: str, modelo: str, año: int, velocidad: float):\n",
    "        self.marca = marca\n",
    "        self.modelo = modelo\n",
    "        self.año = año\n",
    "        self.velocidad = velocidad\n",
    "    \n",
    "    def acelerar(self):\n",
    "        self.velocidad += 5\n",
    "        print(self.velocidad)\n",
    "    \n",
    "    def frenar(self):\n",
    "        self.velocidad = 0\n",
    "        print(self.velocidad)"
   ]
  },
  {
   "cell_type": "code",
   "execution_count": 27,
   "metadata": {},
   "outputs": [],
   "source": [
    "class AutoElectrico(Auto):\n",
    "    \n",
    "    def __init__(self, marca: str, modelo: str, año: int, velocidad: float, autonomia: float, porcentaje_bateria: float):\n",
    "        super().__init__(marca, modelo, año, velocidad)\n",
    "        self.autonomia = autonomia\n",
    "        self.porcentaje_bateria = porcentaje_bateria\n",
    "    \n",
    "    def cargar_bateria(self):\n",
    "        for i in range(self.porcentaje_bateria,101,10):\n",
    "            print(f\"Carga {i}%\")\n",
    "        print(\"Carga finalizada\")"
   ]
  },
  {
   "cell_type": "code",
   "execution_count": 28,
   "metadata": {},
   "outputs": [],
   "source": [
    "auto = AutoElectrico('mazda','2019',2019,120,100,55)"
   ]
  },
  {
   "cell_type": "code",
   "execution_count": 29,
   "metadata": {},
   "outputs": [
    {
     "data": {
      "text/plain": [
       "'mazda'"
      ]
     },
     "execution_count": 29,
     "metadata": {},
     "output_type": "execute_result"
    }
   ],
   "source": [
    "auto.marca"
   ]
  },
  {
   "cell_type": "code",
   "execution_count": 30,
   "metadata": {},
   "outputs": [
    {
     "name": "stdout",
     "output_type": "stream",
     "text": [
      "125\n"
     ]
    }
   ],
   "source": [
    "auto.acelerar()"
   ]
  },
  {
   "cell_type": "code",
   "execution_count": 31,
   "metadata": {},
   "outputs": [
    {
     "name": "stdout",
     "output_type": "stream",
     "text": [
      "0\n"
     ]
    }
   ],
   "source": [
    "auto.frenar()"
   ]
  },
  {
   "cell_type": "code",
   "execution_count": null,
   "metadata": {},
   "outputs": [],
   "source": []
  }
 ],
 "metadata": {
  "kernelspec": {
   "display_name": "Python 3",
   "language": "python",
   "name": "python3"
  },
  "language_info": {
   "codemirror_mode": {
    "name": "ipython",
    "version": 3
   },
   "file_extension": ".py",
   "mimetype": "text/x-python",
   "name": "python",
   "nbconvert_exporter": "python",
   "pygments_lexer": "ipython3",
   "version": "3.9.6"
  },
  "orig_nbformat": 4
 },
 "nbformat": 4,
 "nbformat_minor": 2
}
