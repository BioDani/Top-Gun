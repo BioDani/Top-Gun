{
 "cells": [
  {
   "cell_type": "code",
   "execution_count": 2,
   "metadata": {},
   "outputs": [
    {
     "name": "stdout",
     "output_type": "stream",
     "text": [
      "{'muchos': 1, 'años': 2, 'después': 1, 'frente': 1, 'al': 2, 'pelotón': 1, 'de': 40, 'fusilamiento': 1, 'el': 17, 'coronel': 1, 'aureliano': 1, 'buendía': 4, 'había': 3, 'recordar': 1, 'aquella': 2, 'tarde': 1, 'remota': 1, 'en': 8, 'que': 14, 'su': 7, 'padre': 1, 'lo': 3, 'llevó': 1, 'a': 4, 'conocer': 2, 'hielo': 1, 'macondo': 1, 'era': 4, 'entonces': 1, 'una': 5, 'aldea': 2, 'veinte': 1, 'casas': 1, 'barro': 1, 'y': 17, 'cañabrava': 1, 'construidas': 1, 'la': 12, 'orilla': 1, 'un': 10, 'río': 2, 'aguas': 1, 'diáfanas': 1, 'se': 7, 'precipitaban': 1, 'por': 6, 'lecho': 1, 'piedras': 2, 'pulidas': 1, 'blancas': 1, 'enormes': 1, 'como': 1, 'huevos': 1, 'prehistóricos': 1, 'mundo': 2, 'tan': 1, 'reciente': 1, 'muchas': 1, 'cosas': 2, 'carecían': 1, 'nombre': 2, 'para': 4, 'mencionarlas': 1, 'señalarlas': 1, 'con': 7, 'dedo': 1, 'todos': 1, 'los': 13, 'mes': 1, 'marzo': 1, 'familia': 1, 'gitanos': 2, 'desarrapados': 1, 'plantaba': 1, 'carpa': 1, 'cerca': 1, 'grande': 1, 'alboroto': 1, 'pitos': 1, 'timbales': 1, 'daban': 1, 'nuevos': 1, 'inventos': 1, 'primero': 1, 'llevaron': 1, 'imán': 1, 'gitano': 2, 'corpulento': 1, 'barba': 1, 'montaraz': 1, 'manos': 1, 'gorrión': 1, 'presentó': 1, 'melquíades': 4, 'hizo': 1, 'truculenta': 1, 'demostración': 1, 'pública': 1, 'él': 1, 'mismo': 1, 'llamaba': 1, 'octava': 1, 'maravilla': 1, 'sabios': 1, 'alquimistas': 1, 'macedonia': 1, 'fue': 2, 'casa': 2, 'arrastrando': 2, 'dos': 3, 'lingotes': 3, 'metálicos': 1, 'todo': 2, 'espantó': 1, 'ver': 1, 'calderos': 1, 'las': 3, 'pailas': 1, 'tenazas': 1, 'anafes': 1, 'caían': 1, 'sitio': 1, 'maderas': 1, 'crujían': 1, 'desesperación': 1, 'clavos': 1, 'tornillos': 1, 'tratando': 1, 'desenclavarse': 1, 'aun': 2, 'objetos': 1, 'perdidos': 1, 'desde': 1, 'hacía': 1, 'mucho': 1, 'tiempo': 2, 'aparecían': 1, 'donde': 1, 'más': 3, 'les': 1, 'buscado': 1, 'arrastraban': 1, 'desbandada': 1, 'turbulenta': 1, 'detrás': 1, 'fierros': 1, 'mágicos': 1, '«las': 1, 'tienen': 1, 'vida': 1, 'propia': 1, 'pregonaba': 1, 'áspero': 1, 'acento': 1, 'es': 1, 'cuestión': 1, 'despertarles': 1, 'ánima»': 1, 'josé': 3, 'arcadio': 3, 'cuya': 1, 'desaforada': 1, 'imaginación': 1, 'iba': 1, 'siempre': 1, 'lejos': 1, 'ingenio': 1, 'naturaleza': 1, 'allá': 1, 'del': 3, 'milagro': 1, 'magia': 1, 'pensó': 1, 'posible': 1, 'servirse': 1, 'invención': 1, 'inútil': 1, 'desentrañar': 1, 'oro': 2, 'tierra': 1, 'hombre': 1, 'honrado': 1, 'le': 1, 'previno:': 1, '«para': 1, 'eso': 1, 'no': 3, 'sirve»': 1, 'pero': 1, 'creía': 1, 'aquel': 1, 'honradez': 1, 'así': 1, 'cambió': 1, 'mulo': 1, 'partida': 1, 'chivos': 1, 'imantados': 1, 'úrsula': 1, 'iguarán': 1, 'mujer': 2, 'contaba': 1, 'aquellos': 1, 'animales': 1, 'ensanchar': 1, 'desmedrado': 1, 'patrimonio': 1, 'doméstico': 1, 'consiguió': 1, 'disuadirlo': 1, '«muy': 1, 'pronto': 1, 'ha': 1, 'sobrarnos': 1, 'empedrar': 1, 'casa»': 1, 'replicó': 1, 'marido': 1, 'durante': 1, 'varios': 1, 'meses': 1, 'empeñó': 1, 'demostrar': 1, 'acierto': 1, 'sus': 2, 'conjeturas': 1, 'exploró': 1, 'palmo': 2, 'región': 1, 'inclusive': 1, 'fondo': 1, 'hierro': 1, 'recitando': 1, 'voz': 1, 'alta': 1, 'conjuro': 1, 'único': 1, 'logró': 1, 'desenterrar': 1, 'armadura': 2, 'siglo': 1, 'xv': 1, 'todas': 1, 'partes': 1, 'soldadas': 1, 'cascote': 1, 'óxido': 1, 'cuyo': 1, 'interior': 1, 'tenía': 1, 'resonancia': 1, 'hueca': 1, 'enorme': 1, 'calabazo': 1, 'lleno': 1, 'cuando': 1, 'cuatro': 1, 'hombres': 1, 'expedición': 1, 'lograron': 1, 'desarticular': 1, 'encontraron': 1, 'dentro': 1, 'esqueleto': 1, 'calcificado': 1, 'llevaba': 1, 'colgado': 1, 'cuello': 1, 'relicario': 1, 'cobre': 1, 'rizo': 1}\n"
     ]
    }
   ],
   "source": [
    "counts = dict()\n",
    "with open(\"../data/fragmento_libro.txt\") as file:\n",
    "    for line in file:\n",
    "        line = line.replace(',','')\n",
    "        line = line.replace('.','')\n",
    "        line = line.replace(';','')\n",
    "        line = line.replace('—','')\n",
    "        \n",
    "        line = line.lower()\n",
    "        lst = line.split(' ')\n",
    "        \n",
    "        for word in lst:\n",
    "            counts[word] = counts.get(word, 0) + 1\n",
    "\n",
    "print(counts)"
   ]
  },
  {
   "cell_type": "code",
   "execution_count": 34,
   "metadata": {},
   "outputs": [
    {
     "data": {
      "text/plain": [
       "[(40, 'de'),\n",
       " (17, 'y'),\n",
       " (17, 'el'),\n",
       " (14, 'que'),\n",
       " (13, 'los'),\n",
       " (12, 'la'),\n",
       " (10, 'un'),\n",
       " (8, 'en'),\n",
       " (7, 'su'),\n",
       " (7, 'se'),\n",
       " (7, 'con'),\n",
       " (6, 'por'),\n",
       " (5, 'una'),\n",
       " (4, 'para'),\n",
       " (4, 'melquíades'),\n",
       " (4, 'era'),\n",
       " (4, 'buendía'),\n",
       " (4, 'a'),\n",
       " (3, 'no'),\n",
       " (3, 'más'),\n",
       " (3, 'lo'),\n",
       " (3, 'lingotes'),\n",
       " (3, 'las'),\n",
       " (3, 'josé'),\n",
       " (3, 'había'),\n",
       " (3, 'dos'),\n",
       " (3, 'del'),\n",
       " (3, 'arcadio'),\n",
       " (2, 'todo'),\n",
       " (2, 'tiempo'),\n",
       " (2, 'sus'),\n",
       " (2, 'río'),\n",
       " (2, 'piedras'),\n",
       " (2, 'palmo'),\n",
       " (2, 'oro'),\n",
       " (2, 'nombre'),\n",
       " (2, 'mundo'),\n",
       " (2, 'mujer'),\n",
       " (2, 'gitanos'),\n",
       " (2, 'gitano'),\n",
       " (2, 'fue'),\n",
       " (2, 'cosas'),\n",
       " (2, 'conocer'),\n",
       " (2, 'casa'),\n",
       " (2, 'años'),\n",
       " (2, 'aun'),\n",
       " (2, 'arrastrando'),\n",
       " (2, 'armadura'),\n",
       " (2, 'aquella'),\n",
       " (2, 'aldea'),\n",
       " (2, 'al'),\n",
       " (1, 'úrsula'),\n",
       " (1, 'único'),\n",
       " (1, 'óxido'),\n",
       " (1, 'él'),\n",
       " (1, 'áspero'),\n",
       " (1, 'ánima»'),\n",
       " (1, '«para'),\n",
       " (1, '«muy'),\n",
       " (1, '«las'),\n",
       " (1, 'xv'),\n",
       " (1, 'voz'),\n",
       " (1, 'vida'),\n",
       " (1, 'ver'),\n",
       " (1, 'veinte'),\n",
       " (1, 'varios'),\n",
       " (1, 'turbulenta'),\n",
       " (1, 'truculenta'),\n",
       " (1, 'tratando'),\n",
       " (1, 'tornillos'),\n",
       " (1, 'todos'),\n",
       " (1, 'todas'),\n",
       " (1, 'timbales'),\n",
       " (1, 'tierra'),\n",
       " (1, 'tienen'),\n",
       " (1, 'tenía'),\n",
       " (1, 'tenazas'),\n",
       " (1, 'tarde'),\n",
       " (1, 'tan'),\n",
       " (1, 'soldadas'),\n",
       " (1, 'sobrarnos'),\n",
       " (1, 'sitio'),\n",
       " (1, 'sirve»'),\n",
       " (1, 'siglo'),\n",
       " (1, 'siempre'),\n",
       " (1, 'señalarlas'),\n",
       " (1, 'servirse'),\n",
       " (1, 'sabios'),\n",
       " (1, 'rizo'),\n",
       " (1, 'resonancia'),\n",
       " (1, 'replicó'),\n",
       " (1, 'remota'),\n",
       " (1, 'relicario'),\n",
       " (1, 'región'),\n",
       " (1, 'recordar'),\n",
       " (1, 'recitando'),\n",
       " (1, 'reciente'),\n",
       " (1, 'pública'),\n",
       " (1, 'pulidas'),\n",
       " (1, 'propia'),\n",
       " (1, 'pronto'),\n",
       " (1, 'primero'),\n",
       " (1, 'previno:'),\n",
       " (1, 'presentó'),\n",
       " (1, 'prehistóricos'),\n",
       " (1, 'pregonaba'),\n",
       " (1, 'precipitaban'),\n",
       " (1, 'posible'),\n",
       " (1, 'plantaba'),\n",
       " (1, 'pitos'),\n",
       " (1, 'pero'),\n",
       " (1, 'perdidos'),\n",
       " (1, 'pensó'),\n",
       " (1, 'pelotón'),\n",
       " (1, 'patrimonio'),\n",
       " (1, 'partida'),\n",
       " (1, 'partes'),\n",
       " (1, 'pailas'),\n",
       " (1, 'padre'),\n",
       " (1, 'orilla'),\n",
       " (1, 'octava'),\n",
       " (1, 'objetos'),\n",
       " (1, 'nuevos'),\n",
       " (1, 'naturaleza'),\n",
       " (1, 'mágicos'),\n",
       " (1, 'mulo'),\n",
       " (1, 'muchos'),\n",
       " (1, 'mucho'),\n",
       " (1, 'muchas'),\n",
       " (1, 'montaraz'),\n",
       " (1, 'mismo'),\n",
       " (1, 'milagro'),\n",
       " (1, 'metálicos'),\n",
       " (1, 'meses'),\n",
       " (1, 'mes'),\n",
       " (1, 'mencionarlas'),\n",
       " (1, 'marzo'),\n",
       " (1, 'marido'),\n",
       " (1, 'maravilla'),\n",
       " (1, 'manos'),\n",
       " (1, 'magia'),\n",
       " (1, 'maderas'),\n",
       " (1, 'macondo'),\n",
       " (1, 'macedonia'),\n",
       " (1, 'logró'),\n",
       " (1, 'lograron'),\n",
       " (1, 'llevó'),\n",
       " (1, 'llevaron'),\n",
       " (1, 'llevaba'),\n",
       " (1, 'lleno'),\n",
       " (1, 'llamaba'),\n",
       " (1, 'les'),\n",
       " (1, 'lejos'),\n",
       " (1, 'lecho'),\n",
       " (1, 'le'),\n",
       " (1, 'inútil'),\n",
       " (1, 'inventos'),\n",
       " (1, 'invención'),\n",
       " (1, 'interior'),\n",
       " (1, 'ingenio'),\n",
       " (1, 'inclusive'),\n",
       " (1, 'imán'),\n",
       " (1, 'imantados'),\n",
       " (1, 'imaginación'),\n",
       " (1, 'iguarán'),\n",
       " (1, 'iba'),\n",
       " (1, 'huevos'),\n",
       " (1, 'hueca'),\n",
       " (1, 'honrado'),\n",
       " (1, 'honradez'),\n",
       " (1, 'hombres'),\n",
       " (1, 'hombre'),\n",
       " (1, 'hizo'),\n",
       " (1, 'hierro'),\n",
       " (1, 'hielo'),\n",
       " (1, 'hacía'),\n",
       " (1, 'ha'),\n",
       " (1, 'grande'),\n",
       " (1, 'gorrión'),\n",
       " (1, 'fusilamiento'),\n",
       " (1, 'frente'),\n",
       " (1, 'fondo'),\n",
       " (1, 'fierros'),\n",
       " (1, 'familia'),\n",
       " (1, 'exploró'),\n",
       " (1, 'expedición'),\n",
       " (1, 'esqueleto'),\n",
       " (1, 'espantó'),\n",
       " (1, 'eso'),\n",
       " (1, 'es'),\n",
       " (1, 'entonces'),\n",
       " (1, 'ensanchar'),\n",
       " (1, 'enormes'),\n",
       " (1, 'enorme'),\n",
       " (1, 'encontraron'),\n",
       " (1, 'empeñó'),\n",
       " (1, 'empedrar'),\n",
       " (1, 'durante'),\n",
       " (1, 'donde'),\n",
       " (1, 'doméstico'),\n",
       " (1, 'diáfanas'),\n",
       " (1, 'disuadirlo'),\n",
       " (1, 'detrás'),\n",
       " (1, 'después'),\n",
       " (1, 'despertarles'),\n",
       " (1, 'desmedrado'),\n",
       " (1, 'desesperación'),\n",
       " (1, 'desentrañar'),\n",
       " (1, 'desenterrar'),\n",
       " (1, 'desenclavarse'),\n",
       " (1, 'desde'),\n",
       " (1, 'desbandada'),\n",
       " (1, 'desarticular'),\n",
       " (1, 'desarrapados'),\n",
       " (1, 'desaforada'),\n",
       " (1, 'dentro'),\n",
       " (1, 'demostrar'),\n",
       " (1, 'demostración'),\n",
       " (1, 'dedo'),\n",
       " (1, 'daban'),\n",
       " (1, 'cuyo'),\n",
       " (1, 'cuya'),\n",
       " (1, 'cuestión'),\n",
       " (1, 'cuello'),\n",
       " (1, 'cuatro'),\n",
       " (1, 'cuando'),\n",
       " (1, 'crujían'),\n",
       " (1, 'creía'),\n",
       " (1, 'corpulento'),\n",
       " (1, 'coronel'),\n",
       " (1, 'contaba'),\n",
       " (1, 'construidas'),\n",
       " (1, 'consiguió'),\n",
       " (1, 'conjuro'),\n",
       " (1, 'conjeturas'),\n",
       " (1, 'como'),\n",
       " (1, 'colgado'),\n",
       " (1, 'cobre'),\n",
       " (1, 'clavos'),\n",
       " (1, 'chivos'),\n",
       " (1, 'cerca'),\n",
       " (1, 'cañabrava'),\n",
       " (1, 'caían'),\n",
       " (1, 'cascote'),\n",
       " (1, 'casa»'),\n",
       " (1, 'casas'),\n",
       " (1, 'carpa'),\n",
       " (1, 'carecían'),\n",
       " (1, 'cambió'),\n",
       " (1, 'calderos'),\n",
       " (1, 'calcificado'),\n",
       " (1, 'calabazo'),\n",
       " (1, 'buscado'),\n",
       " (1, 'blancas'),\n",
       " (1, 'barro'),\n",
       " (1, 'barba'),\n",
       " (1, 'aureliano'),\n",
       " (1, 'así'),\n",
       " (1, 'arrastraban'),\n",
       " (1, 'aquellos'),\n",
       " (1, 'aquel'),\n",
       " (1, 'aparecían'),\n",
       " (1, 'animales'),\n",
       " (1, 'anafes'),\n",
       " (1, 'alta'),\n",
       " (1, 'alquimistas'),\n",
       " (1, 'allá'),\n",
       " (1, 'alboroto'),\n",
       " (1, 'aguas'),\n",
       " (1, 'acierto'),\n",
       " (1, 'acento')]"
      ]
     },
     "execution_count": 34,
     "metadata": {},
     "output_type": "execute_result"
    }
   ],
   "source": [
    "tmp = list()\n",
    "for word, count in counts.items():\n",
    "        tmp.append((count, word))\n",
    "sorted(tmp, reverse=True)"
   ]
  },
  {
   "cell_type": "code",
   "execution_count": 11,
   "metadata": {},
   "outputs": [],
   "source": [
    "from datetime import datetime"
   ]
  },
  {
   "cell_type": "code",
   "execution_count": 13,
   "metadata": {},
   "outputs": [],
   "source": [
    "date = datetime.now()"
   ]
  },
  {
   "cell_type": "code",
   "execution_count": 14,
   "metadata": {},
   "outputs": [
    {
     "data": {
      "text/plain": [
       "datetime.datetime"
      ]
     },
     "execution_count": 14,
     "metadata": {},
     "output_type": "execute_result"
    }
   ],
   "source": [
    "type(date)"
   ]
  },
  {
   "cell_type": "code",
   "execution_count": 15,
   "metadata": {},
   "outputs": [
    {
     "data": {
      "text/plain": [
       "uuid.UUID"
      ]
     },
     "execution_count": 15,
     "metadata": {},
     "output_type": "execute_result"
    }
   ],
   "source": [
    "import uuid\n",
    "\n",
    "id = uuid.uuid4()\n",
    "type(id)"
   ]
  },
  {
   "cell_type": "code",
   "execution_count": 2,
   "metadata": {},
   "outputs": [],
   "source": [
    "from datetime import datetime\n",
    "\n",
    "class Transaction():    \n",
    "    def new_transaction(self,amount: float):\n",
    "        return {\n",
    "            'date': datetime.now(),\n",
    "            'amount': amount\n",
    "        }"
   ]
  },
  {
   "cell_type": "code",
   "execution_count": 3,
   "metadata": {},
   "outputs": [],
   "source": [
    "t1 = Transaction().new_transaction(amount=1000)"
   ]
  },
  {
   "cell_type": "code",
   "execution_count": 2,
   "metadata": {},
   "outputs": [],
   "source": [
    "from datetime import datetime\n",
    "import uuid\n",
    "\n",
    "class BankAccount():\n",
    "    \n",
    "    def __init__(self,\n",
    "                 customer_id: str,\n",
    "                 balance: float = 0):\n",
    "        \n",
    "        self.account_id  = uuid.uuid4()\n",
    "        self.opening_date = datetime.now()\n",
    "        self.customer_id = customer_id\n",
    "        self.balance = balance\n",
    "        self.transactions = list()\n",
    "        \n",
    "    def depositing(self, amount: float):\n",
    "        self.balance += amount\n",
    "        self.new_transaction(type_transaction= 'Deposit',amount= amount)\n",
    "        return f'Desposit for $ {amount} USD'\n",
    "    \n",
    "    def withdrawing(self, amount: float):\n",
    "        if amount <= self.balance:\n",
    "            self.balance -= amount\n",
    "            self.new_transaction(amount= -amount, type_transaction= 'Withdrawl')\n",
    "        return f'Withdrawl for $ {amount} USD'\n",
    "            \n",
    "    \n",
    "    def new_transaction(self, amount: float, type_transaction: str):\n",
    "        new = {\n",
    "            'date': datetime.now(),\n",
    "            'type': type_transaction,\n",
    "            'amount': amount\n",
    "        }\n",
    "        self.transactions.append(new)\n",
    "        \n",
    "    def checking_balance(self):\n",
    "        return {\n",
    "            'Account' : self.account_id,\n",
    "            'Enquiery date': datetime.now(),\n",
    "            'Balance account': f'$ {self.balance} USD'\n",
    "        }\n",
    "    \n",
    "\n",
    "\n",
    "new_a = BankAccount(customer_id='123')"
   ]
  },
  {
   "cell_type": "code",
   "execution_count": 3,
   "metadata": {},
   "outputs": [
    {
     "data": {
      "text/plain": [
       "'Desposit for $ 500 USD'"
      ]
     },
     "execution_count": 3,
     "metadata": {},
     "output_type": "execute_result"
    }
   ],
   "source": [
    "new_a.depositing(500)"
   ]
  },
  {
   "cell_type": "code",
   "execution_count": 4,
   "metadata": {},
   "outputs": [
    {
     "data": {
      "text/plain": [
       "'Withdrawl for $ 100 USD'"
      ]
     },
     "execution_count": 4,
     "metadata": {},
     "output_type": "execute_result"
    }
   ],
   "source": [
    "new_a.withdrawing(100)"
   ]
  },
  {
   "cell_type": "code",
   "execution_count": 5,
   "metadata": {},
   "outputs": [
    {
     "data": {
      "text/plain": [
       "{'Account': UUID('300c3981-1972-434d-af6d-946926bc296d'),\n",
       " 'Enquiery date': datetime.datetime(2023, 6, 4, 14, 23, 0, 605015),\n",
       " 'Balance account': '$ 400 USD'}"
      ]
     },
     "execution_count": 5,
     "metadata": {},
     "output_type": "execute_result"
    }
   ],
   "source": [
    "new_a.checking_balance()"
   ]
  },
  {
   "cell_type": "code",
   "execution_count": 4,
   "metadata": {},
   "outputs": [
    {
     "name": "stdout",
     "output_type": "stream",
     "text": [
      "{'muchos': 1, 'años': 2, 'después': 1, 'frente': 1, 'al': 2, 'pelotón': 1, 'de': 40, 'fusilamiento': 1, 'el': 17, 'coronel': 1, 'aureliano': 1, 'buendía': 4, 'había': 3, 'recordar': 1, 'aquella': 2, 'tarde': 1, 'remota': 1, 'en': 8, 'que': 14, 'su': 7, 'padre': 1, 'lo': 3, 'llevó': 1, 'a': 4, 'conocer': 2, 'hielo': 1, 'macondo': 1, 'era': 4, 'entonces': 1, 'una': 5, 'aldea': 2, 'veinte': 1, 'casas': 1, 'barro': 1, 'y': 17, 'cañabrava': 1, 'construidas': 1, 'la': 12, 'orilla': 1, 'un': 10, 'río': 2, 'aguas': 1, 'diáfanas': 1, 'se': 7, 'precipitaban': 1, 'por': 6, 'lecho': 1, 'piedras': 2, 'pulidas': 1, 'blancas': 1, 'enormes': 1, 'como': 1, 'huevos': 1, 'prehistóricos': 1, 'mundo': 2, 'tan': 1, 'reciente': 1, 'muchas': 1, 'cosas': 2, 'carecían': 1, 'nombre': 2, 'para': 4, 'mencionarlas': 1, 'señalarlas': 1, 'con': 7, 'dedo': 1, 'todos': 1, 'los': 13, 'mes': 1, 'marzo': 1, 'familia': 1, 'gitanos': 2, 'desarrapados': 1, 'plantaba': 1, 'carpa': 1, 'cerca': 1, 'grande': 1, 'alboroto': 1, 'pitos': 1, 'timbales': 1, 'daban': 1, 'nuevos': 1, 'inventos': 1, 'primero': 1, 'llevaron': 1, 'imán': 1, 'gitano': 2, 'corpulento': 1, 'barba': 1, 'montaraz': 1, 'manos': 1, 'gorrión': 1, 'presentó': 1, 'melquíades': 4, 'hizo': 1, 'truculenta': 1, 'demostración': 1, 'pública': 1, 'él': 1, 'mismo': 1, 'llamaba': 1, 'octava': 1, 'maravilla': 1, 'sabios': 1, 'alquimistas': 1, 'macedonia': 1, 'fue': 2, 'casa': 2, 'arrastrando': 2, 'dos': 3, 'lingotes': 3, 'metálicos': 1, 'todo': 2, 'espantó': 1, 'ver': 1, 'calderos': 1, 'las': 3, 'pailas': 1, 'tenazas': 1, 'anafes': 1, 'caían': 1, 'sitio': 1, 'maderas': 1, 'crujían': 1, 'desesperación': 1, 'clavos': 1, 'tornillos': 1, 'tratando': 1, 'desenclavarse': 1, 'aun': 2, 'objetos': 1, 'perdidos': 1, 'desde': 1, 'hacía': 1, 'mucho': 1, 'tiempo': 2, 'aparecían': 1, 'donde': 1, 'más': 3, 'les': 1, 'buscado': 1, 'arrastraban': 1, 'desbandada': 1, 'turbulenta': 1, 'detrás': 1, 'fierros': 1, 'mágicos': 1, '«las': 1, 'tienen': 1, 'vida': 1, 'propia': 1, 'pregonaba': 1, 'áspero': 1, 'acento': 1, 'es': 1, 'cuestión': 1, 'despertarles': 1, 'ánima»': 1, 'josé': 3, 'arcadio': 3, 'cuya': 1, 'desaforada': 1, 'imaginación': 1, 'iba': 1, 'siempre': 1, 'lejos': 1, 'ingenio': 1, 'naturaleza': 1, 'allá': 1, 'del': 3, 'milagro': 1, 'magia': 1, 'pensó': 1, 'posible': 1, 'servirse': 1, 'invención': 1, 'inútil': 1, 'desentrañar': 1, 'oro': 2, 'tierra': 1, 'hombre': 1, 'honrado': 1, 'le': 1, 'previno:': 1, '«para': 1, 'eso': 1, 'no': 3, 'sirve»': 1, 'pero': 1, 'creía': 1, 'aquel': 1, 'honradez': 1, 'así': 1, 'cambió': 1, 'mulo': 1, 'partida': 1, 'chivos': 1, 'imantados': 1, 'úrsula': 1, 'iguarán': 1, 'mujer': 2, 'contaba': 1, 'aquellos': 1, 'animales': 1, 'ensanchar': 1, 'desmedrado': 1, 'patrimonio': 1, 'doméstico': 1, 'consiguió': 1, 'disuadirlo': 1, '«muy': 1, 'pronto': 1, 'ha': 1, 'sobrarnos': 1, 'empedrar': 1, 'casa»': 1, 'replicó': 1, 'marido': 1, 'durante': 1, 'varios': 1, 'meses': 1, 'empeñó': 1, 'demostrar': 1, 'acierto': 1, 'sus': 2, 'conjeturas': 1, 'exploró': 1, 'palmo': 2, 'región': 1, 'inclusive': 1, 'fondo': 1, 'hierro': 1, 'recitando': 1, 'voz': 1, 'alta': 1, 'conjuro': 1, 'único': 1, 'logró': 1, 'desenterrar': 1, 'armadura': 2, 'siglo': 1, 'xv': 1, 'todas': 1, 'partes': 1, 'soldadas': 1, 'cascote': 1, 'óxido': 1, 'cuyo': 1, 'interior': 1, 'tenía': 1, 'resonancia': 1, 'hueca': 1, 'enorme': 1, 'calabazo': 1, 'lleno': 1, 'cuando': 1, 'cuatro': 1, 'hombres': 1, 'expedición': 1, 'lograron': 1, 'desarticular': 1, 'encontraron': 1, 'dentro': 1, 'esqueleto': 1, 'calcificado': 1, 'llevaba': 1, 'colgado': 1, 'cuello': 1, 'relicario': 1, 'cobre': 1, 'rizo': 1}\n",
      "Completed!\n"
     ]
    }
   ],
   "source": [
    "def main():\n",
    "    counts = dict()\n",
    "    try:\n",
    "        with open('../data/fragmento_libro.txt','r') as file:\n",
    "            for line in file:\n",
    "                line = line.replace(',','')\n",
    "                line = line.replace('.','')\n",
    "                line = line.replace(';','')\n",
    "                line = line.replace('—','')\n",
    "                \n",
    "                line = line.lower()\n",
    "                lst = line.split(' ')\n",
    "                \n",
    "                for word in lst:\n",
    "                    counts[word] = counts.get(word, 0) + 1\n",
    "        print(counts)\n",
    "        \n",
    "    except FileNotFoundError as error:\n",
    "        print(error)\n",
    "    else:\n",
    "        print('Completed!')\n",
    "\n",
    "    \n",
    "if __name__ == '__main__':\n",
    "    main()"
   ]
  },
  {
   "cell_type": "code",
   "execution_count": 5,
   "metadata": {},
   "outputs": [
    {
     "data": {
      "text/plain": [
       "False"
      ]
     },
     "execution_count": 5,
     "metadata": {},
     "output_type": "execute_result"
    }
   ],
   "source": [
    "def is_palindrome( word : str):\n",
    "    try:\n",
    "        assert isinstance(word, str)\n",
    "        word = word.upper()\n",
    "        if word == word[::-1]:\n",
    "            return True\n",
    "        return False\n",
    "    except AssertionError:\n",
    "        return 'Must provide a string.'\n",
    "\n",
    "is_palindrome('home')"
   ]
  },
  {
   "cell_type": "code",
   "execution_count": 1,
   "metadata": {},
   "outputs": [],
   "source": [
    "import random\n",
    "start = 10\n",
    "end = 50\n",
    "n = 20\n",
    "lst = [ random.randint(start, end) for i in range(0, n+1)]"
   ]
  },
  {
   "cell_type": "code",
   "execution_count": 27,
   "metadata": {},
   "outputs": [],
   "source": [
    "def generate_list( start: int, end: int, n_elements: int):\n",
    "    return [random.randint(start, end) for i in range(0, n_elements)]"
   ]
  },
  {
   "cell_type": "code",
   "execution_count": 37,
   "metadata": {},
   "outputs": [],
   "source": [
    "def sort_list( lst: list):\n",
    "    lst.sort()\n",
    "    return lst"
   ]
  },
  {
   "cell_type": "code",
   "execution_count": 36,
   "metadata": {},
   "outputs": [
    {
     "name": "stdout",
     "output_type": "stream",
     "text": [
      "[-1, 1, 4, 9, 10]\n"
     ]
    }
   ],
   "source": [
    "my_list = [1, -1, 4, 10, 9]\n",
    "my_list.sort()\n",
    "\n",
    "print(my_list)"
   ]
  },
  {
   "cell_type": "code",
   "execution_count": 38,
   "metadata": {},
   "outputs": [
    {
     "data": {
      "text/plain": [
       "[0, 2, 3, 4, 5]"
      ]
     },
     "execution_count": 38,
     "metadata": {},
     "output_type": "execute_result"
    }
   ],
   "source": [
    "sort_list([5,4,3,2,0])"
   ]
  },
  {
   "cell_type": "code",
   "execution_count": null,
   "metadata": {},
   "outputs": [],
   "source": []
  }
 ],
 "metadata": {
  "kernelspec": {
   "display_name": "Python 3",
   "language": "python",
   "name": "python3"
  },
  "language_info": {
   "codemirror_mode": {
    "name": "ipython",
    "version": 3
   },
   "file_extension": ".py",
   "mimetype": "text/x-python",
   "name": "python",
   "nbconvert_exporter": "python",
   "pygments_lexer": "ipython3",
   "version": "3.9.6"
  },
  "orig_nbformat": 4
 },
 "nbformat": 4,
 "nbformat_minor": 2
}
