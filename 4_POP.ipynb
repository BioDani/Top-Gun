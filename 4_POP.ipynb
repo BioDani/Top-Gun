{
 "cells": [
  {
   "attachments": {},
   "cell_type": "markdown",
   "metadata": {},
   "source": [
    "# Creación de una clase \n",
    "\n",
    "El método `__init__` se utiliza como el __constructor__ de la clase. \n",
    "\n",
    "El constructor se ejecuta automáticamente cuando se crea una instancia (objeto) de la clase y se utiliza para realizar cualquier inicialización necesaria en el objeto.\n",
    "\n",
    "Una clase que haga referencia a `animales_del_bosque` debería escribirse como `AnimalesBosque`.\n",
    "\n",
    "`self` siempre debe ir (para hacer referencia de que son métodos de la clase), los parámetros pueden ser opcionales."
   ]
  },
  {
   "cell_type": "code",
   "execution_count": 4,
   "metadata": {},
   "outputs": [],
   "source": [
    "class Perro:\n",
    "    nombre = \"\"\n",
    "    edad = \"\"\n",
    "   \n",
    "    def __init__(self, nombre:str, edad:int):\n",
    "        self.nombre = nombre\n",
    "        self.edad = edad\n",
    "    \n",
    "    def desperdir(self):\n",
    "        print(f\"{self.nombre} dice adios.\")\n",
    "\n",
    "    def saludar(self):\n",
    "        print(f\"Hola, me llamo {self.nombre} y tengo {self.edad} años.\")\n",
    "        self.desperdir()"
   ]
  },
  {
   "attachments": {},
   "cell_type": "markdown",
   "metadata": {},
   "source": [
    "Usar la clase y crear un objeto"
   ]
  },
  {
   "cell_type": "code",
   "execution_count": 5,
   "metadata": {},
   "outputs": [],
   "source": [
    "perro = Perro(\"Valentin\",3)"
   ]
  },
  {
   "attachments": {},
   "cell_type": "markdown",
   "metadata": {},
   "source": [
    "perro es una instancia de `Perro` y tiene el método `saludar`."
   ]
  },
  {
   "cell_type": "code",
   "execution_count": 6,
   "metadata": {},
   "outputs": [
    {
     "name": "stdout",
     "output_type": "stream",
     "text": [
      "Hola, me llamo Valentin y tengo 3 años.\n",
      "Valentin dice adios.\n"
     ]
    }
   ],
   "source": [
    "perro.saludar()"
   ]
  },
  {
   "cell_type": "code",
   "execution_count": 7,
   "metadata": {},
   "outputs": [
    {
     "name": "stdout",
     "output_type": "stream",
     "text": [
      "<__main__.Perro object at 0x102ed2a90>\n"
     ]
    }
   ],
   "source": [
    "print(perro)"
   ]
  },
  {
   "attachments": {},
   "cell_type": "markdown",
   "metadata": {},
   "source": [
    "Usar método mágico `__str__` para agregar una descripción al objeto."
   ]
  },
  {
   "cell_type": "code",
   "execution_count": 12,
   "metadata": {},
   "outputs": [],
   "source": [
    "class Perro:\n",
    "    nombre = \"\"\n",
    "    edad = 0\n",
    "   \n",
    "    def __init__(self, nombre:str, edad:int):\n",
    "        self.nombre = nombre\n",
    "        self.edad = edad\n",
    "    \n",
    "    def desperdir(self):\n",
    "        print(f\"{self.nombre} dice adios.\")\n",
    "\n",
    "    def saludar(self):\n",
    "        print(f\"Hola, me llamo {self.nombre} y tengo {self.edad} años.\")\n",
    "        self.desperdir()\n",
    "    \n",
    "    def __str__(self):\n",
    "        return \"Objeto de tipo perro\""
   ]
  },
  {
   "cell_type": "code",
   "execution_count": 10,
   "metadata": {},
   "outputs": [
    {
     "name": "stdout",
     "output_type": "stream",
     "text": [
      "Objeto de tipo perro\n"
     ]
    }
   ],
   "source": [
    "perro = Perro('Manchas', 4)\n",
    "print(perro)"
   ]
  },
  {
   "cell_type": "code",
   "execution_count": 11,
   "metadata": {},
   "outputs": [
    {
     "name": "stdout",
     "output_type": "stream",
     "text": [
      "Hola, me llamo Manchas y tengo 4 años.\n",
      "Manchas dice adios.\n",
      "Manchas dice adios.\n"
     ]
    }
   ],
   "source": [
    "perro.saludar()\n",
    "perro.desperdir()"
   ]
  },
  {
   "cell_type": "code",
   "execution_count": null,
   "metadata": {},
   "outputs": [],
   "source": []
  }
 ],
 "metadata": {
  "kernelspec": {
   "display_name": "Python 3",
   "language": "python",
   "name": "python3"
  },
  "language_info": {
   "codemirror_mode": {
    "name": "ipython",
    "version": 3
   },
   "file_extension": ".py",
   "mimetype": "text/x-python",
   "name": "python",
   "nbconvert_exporter": "python",
   "pygments_lexer": "ipython3",
   "version": "3.9.6"
  },
  "orig_nbformat": 4
 },
 "nbformat": 4,
 "nbformat_minor": 2
}
