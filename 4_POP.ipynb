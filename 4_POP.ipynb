{
 "cells": [
  {
   "attachments": {},
   "cell_type": "markdown",
   "metadata": {},
   "source": [
    "# Creación de una clase \n",
    "\n",
    "El método `__init__` se utiliza como el __constructor__ de la clase. \n",
    "\n",
    "El constructor se ejecuta automáticamente cuando se crea una instancia (objeto) de la clase y se utiliza para realizar cualquier inicialización necesaria en el objeto.\n",
    "\n",
    "Una clase que haga referencia a `animales_del_bosque` debería escribirse como `AnimalesBosque`.\n",
    "\n",
    "`self` siempre debe ir (para hacer referencia de que son métodos de la clase), los parámetros pueden ser opcionales."
   ]
  },
  {
   "cell_type": "code",
   "execution_count": 4,
   "metadata": {},
   "outputs": [],
   "source": [
    "class Perro:\n",
    "    nombre = \"\"\n",
    "    edad = \"\"\n",
    "   \n",
    "    def __init__(self, nombre:str, edad:int):\n",
    "        self.nombre = nombre\n",
    "        self.edad = edad\n",
    "    \n",
    "    def desperdir(self):\n",
    "        print(f\"{self.nombre} dice adios.\")\n",
    "\n",
    "    def saludar(self):\n",
    "        print(f\"Hola, me llamo {self.nombre} y tengo {self.edad} años.\")\n",
    "        self.desperdir()"
   ]
  },
  {
   "attachments": {},
   "cell_type": "markdown",
   "metadata": {},
   "source": [
    "Usar la clase y crear un objeto"
   ]
  },
  {
   "cell_type": "code",
   "execution_count": 5,
   "metadata": {},
   "outputs": [],
   "source": [
    "perro = Perro(\"Valentin\",3)"
   ]
  },
  {
   "attachments": {},
   "cell_type": "markdown",
   "metadata": {},
   "source": [
    "perro es una instancia de `Perro` y tiene el método `saludar`."
   ]
  },
  {
   "cell_type": "code",
   "execution_count": 6,
   "metadata": {},
   "outputs": [
    {
     "name": "stdout",
     "output_type": "stream",
     "text": [
      "Hola, me llamo Valentin y tengo 3 años.\n",
      "Valentin dice adios.\n"
     ]
    }
   ],
   "source": [
    "perro.saludar()"
   ]
  },
  {
   "cell_type": "code",
   "execution_count": 7,
   "metadata": {},
   "outputs": [
    {
     "name": "stdout",
     "output_type": "stream",
     "text": [
      "<__main__.Perro object at 0x102ed2a90>\n"
     ]
    }
   ],
   "source": [
    "print(perro)"
   ]
  },
  {
   "attachments": {},
   "cell_type": "markdown",
   "metadata": {},
   "source": [
    "Usar método mágico `__str__` para agregar una descripción al objeto."
   ]
  },
  {
   "cell_type": "code",
   "execution_count": 1,
   "metadata": {},
   "outputs": [],
   "source": [
    "class Perro:\n",
    "    nombre = \"\"\n",
    "    edad = 0\n",
    "   \n",
    "    def __init__(self, nombre:str, edad:int):\n",
    "        self.nombre = nombre\n",
    "        self.edad = edad\n",
    "    \n",
    "    def desperdir(self):\n",
    "        print(f\"{self.nombre} dice adios.\")\n",
    "\n",
    "    def saludar(self):\n",
    "        print(f\"Hola, me llamo {self.nombre} y tengo {self.edad} años.\")\n",
    "        self.desperdir()\n",
    "    \n",
    "    def __str__(self):\n",
    "        return \"Objeto de tipo perro\""
   ]
  },
  {
   "cell_type": "code",
   "execution_count": 2,
   "metadata": {},
   "outputs": [
    {
     "name": "stdout",
     "output_type": "stream",
     "text": [
      "Objeto de tipo perro\n"
     ]
    }
   ],
   "source": [
    "perro = Perro('Manchas', 4)\n",
    "print(perro)"
   ]
  },
  {
   "cell_type": "code",
   "execution_count": 3,
   "metadata": {},
   "outputs": [
    {
     "name": "stdout",
     "output_type": "stream",
     "text": [
      "Hola, me llamo Manchas y tengo 4 años.\n",
      "Manchas dice adios.\n",
      "Manchas dice adios.\n"
     ]
    }
   ],
   "source": [
    "perro.saludar()\n",
    "perro.desperdir()"
   ]
  },
  {
   "attachments": {},
   "cell_type": "markdown",
   "metadata": {},
   "source": [
    "# Herencia\n",
    "\n",
    "`PerroGuia` hereda de `Perro`, se pasa como parámetro de la clase.\n",
    "\n",
    "En Python, `super()` se utiliza en la definición de una clase hija para llamar al método de la clase padre. Proporciona una forma conveniente de invocar el método de la clase padre y heredar su comportamiento sin tener que mencionar explícitamente el nombre de la clase padre.\n",
    "\n",
    "Al utilizar `super()`, puedes acceder y llamar a los métodos de la clase padre desde la clase hija. Esto es especialmente útil cuando quieres extender el comportamiento de la clase padre y, al mismo tiempo, ejecutar el código del método de la clase padre en la clase hija."
   ]
  },
  {
   "cell_type": "code",
   "execution_count": 14,
   "metadata": {},
   "outputs": [],
   "source": [
    "class PerroGuia(Perro):\n",
    "\n",
    "    def __init__(self, nombre:str, edad:int, raza: str, entrenado:bool):\n",
    "        super().__init__(nombre,edad)\n",
    "        self.raza = raza\n",
    "        self.entrenado = entrenado\n",
    "    \n",
    "    def validar_entrenado(self):\n",
    "        if self.entrenado:\n",
    "            print(\"Estoy entrenado\")\n",
    "        else:\n",
    "            print(\"No estoy entrenado\")"
   ]
  },
  {
   "cell_type": "code",
   "execution_count": 15,
   "metadata": {},
   "outputs": [],
   "source": [
    "perro = PerroGuia('Pancha',3,'Border collie', True)"
   ]
  },
  {
   "attachments": {},
   "cell_type": "markdown",
   "metadata": {},
   "source": [
    "`PerroGuia` tiene los métodos de la clase padre y sus métodos propios."
   ]
  },
  {
   "cell_type": "code",
   "execution_count": 10,
   "metadata": {},
   "outputs": [
    {
     "name": "stdout",
     "output_type": "stream",
     "text": [
      "Objeto de tipo perro\n",
      "Estoy entrenado\n",
      "Hola, me llamo Pancha y tengo 3 años.\n",
      "Pancha dice adios.\n"
     ]
    }
   ],
   "source": [
    "print(perro)\n",
    "perro.validar_entrenado()\n",
    "perro.saludar()"
   ]
  },
  {
   "attachments": {},
   "cell_type": "markdown",
   "metadata": {},
   "source": [
    "__NOTA:__ Una clase puede heredar de multiples clases."
   ]
  },
  {
   "cell_type": "code",
   "execution_count": 23,
   "metadata": {},
   "outputs": [],
   "source": [
    "class Animal:\n",
    "    color = \"\"\n",
    "\n",
    "    def __init__(self, color:str):\n",
    "        self.color = color\n",
    "\n",
    "    def color_animal(self):\n",
    "        print(f\"Soy de color {self.color}.\")"
   ]
  },
  {
   "attachments": {},
   "cell_type": "markdown",
   "metadata": {},
   "source": [
    "Ahora `PerroGuia` heredará de `Animal` y de `Perro`. Por lo que se pasa en la nueva la clase, las otras dos clases como si fueran parámetros."
   ]
  },
  {
   "cell_type": "code",
   "execution_count": 33,
   "metadata": {},
   "outputs": [],
   "source": [
    "class PerroGuia(Perro, Animal):\n",
    "\n",
    "    def __init__(self, nombre:str, edad:int, raza: str, entrenado:bool, color:str):\n",
    "        Perro.__init__(self, nombre, edad)\n",
    "        Animal.__init__(self, color)\n",
    "        self.raza = raza\n",
    "        self.entrenado = entrenado\n",
    "    \n",
    "    def validar_entrenado(self):\n",
    "        if self.entrenado:\n",
    "            print(\"Estoy entrenado\")\n",
    "        else:\n",
    "            print(\"No estoy entrenado\")"
   ]
  },
  {
   "cell_type": "code",
   "execution_count": 34,
   "metadata": {},
   "outputs": [],
   "source": [
    "perro = PerroGuia('Pancha',3,'Border collie', True, 'negro')"
   ]
  },
  {
   "cell_type": "code",
   "execution_count": 35,
   "metadata": {},
   "outputs": [
    {
     "name": "stdout",
     "output_type": "stream",
     "text": [
      "Hola, me llamo Pancha y tengo 3 años.\n",
      "Pancha dice adios.\n"
     ]
    }
   ],
   "source": [
    "perro.saludar()"
   ]
  },
  {
   "cell_type": "code",
   "execution_count": 36,
   "metadata": {},
   "outputs": [
    {
     "name": "stdout",
     "output_type": "stream",
     "text": [
      "Estoy entrenado\n"
     ]
    }
   ],
   "source": [
    "perro.validar_entrenado()"
   ]
  },
  {
   "cell_type": "code",
   "execution_count": 37,
   "metadata": {},
   "outputs": [
    {
     "name": "stdout",
     "output_type": "stream",
     "text": [
      "Soy de color negro.\n"
     ]
    }
   ],
   "source": [
    "perro.color_animal()"
   ]
  },
  {
   "attachments": {},
   "cell_type": "markdown",
   "metadata": {},
   "source": [
    "# Polimorfismo "
   ]
  },
  {
   "cell_type": "code",
   "execution_count": 38,
   "metadata": {},
   "outputs": [],
   "source": [
    "class Ave:\n",
    "    def volar(self):\n",
    "        pass\n",
    "\n",
    "class Aguila(Ave):\n",
    "    def volar(self):\n",
    "        print('Puedo volar.')\n",
    "\n",
    "class Pinguino(Ave):\n",
    "    def volar(self):\n",
    "        print('No puedo volar.')"
   ]
  },
  {
   "attachments": {},
   "cell_type": "markdown",
   "metadata": {},
   "source": [
    "El padre da un estándar, pero no define rotundamente como deben ser los hijos."
   ]
  },
  {
   "cell_type": "code",
   "execution_count": 41,
   "metadata": {},
   "outputs": [
    {
     "name": "stdout",
     "output_type": "stream",
     "text": [
      "Puedo volar.\n",
      "No puedo volar.\n"
     ]
    }
   ],
   "source": [
    "aguila = Aguila()\n",
    "aguila.volar()\n",
    "pinguino = Pinguino()\n",
    "pinguino.volar()"
   ]
  },
  {
   "attachments": {},
   "cell_type": "markdown",
   "metadata": {},
   "source": [
    "# Encapsulamiento\n",
    "\n",
    "En python se definen atributos públicos y privados. \n",
    "\n",
    "Los atributos y métodos privados son los que solo la clase puede acceder a ellos. Y se definen poniendo dos guiones al inicio del nombre de la variable o del método. \n",
    "\n",
    "Los métodos privados no se pueden heredar."
   ]
  },
  {
   "cell_type": "code",
   "execution_count": 47,
   "metadata": {},
   "outputs": [],
   "source": [
    "class AnimalA:\n",
    "    def __init__(self, nombre:str):\n",
    "        self.nombre = nombre\n",
    "    \n",
    "    def presentar(self):\n",
    "        print(f\"Me llamo {self.nombre}.\")\n",
    "\n",
    "class AnimalB(AnimalA):\n",
    "    def __init__(self, nombre: str, volar: bool):\n",
    "        AnimalA.__init__(self, nombre)\n",
    "        self.volar = volar\n",
    "    \n",
    "    def __privado(self):\n",
    "        print(\"Soy privado.\")\n",
    "\n",
    "    def llamar_a_privado(self):\n",
    "        self.__privado()"
   ]
  },
  {
   "cell_type": "code",
   "execution_count": 48,
   "metadata": {},
   "outputs": [],
   "source": [
    "animal = AnimalB('Pulgas',False)"
   ]
  },
  {
   "cell_type": "code",
   "execution_count": 45,
   "metadata": {},
   "outputs": [
    {
     "name": "stdout",
     "output_type": "stream",
     "text": [
      "Soy privado.\n"
     ]
    }
   ],
   "source": [
    "animal.llamar_a_privado()"
   ]
  },
  {
   "attachments": {},
   "cell_type": "markdown",
   "metadata": {},
   "source": [
    "¿Qué pasa si pongo un método privado en el padre?"
   ]
  },
  {
   "cell_type": "code",
   "execution_count": 51,
   "metadata": {},
   "outputs": [],
   "source": [
    "class AnimalA:\n",
    "    def __init__(self, nombre:str):\n",
    "        self.nombre = nombre\n",
    "    \n",
    "    def presentar(self):\n",
    "        print(f\"Me llamo {self.nombre}.\")\n",
    "        \n",
    "    #----------------------------------#\n",
    "    def __privado(self):\n",
    "        print(\"Soy privado.\")\n",
    "    #----------------------------------#\n",
    "\n",
    "\n",
    "class AnimalB(AnimalA):\n",
    "    def __init__(self, nombre: str, volar: bool):\n",
    "        AnimalA.__init__(self, nombre)\n",
    "        self.volar = volar\n",
    "    \n",
    "    def llamar_a_privado(self):\n",
    "        self.__privado()"
   ]
  },
  {
   "cell_type": "code",
   "execution_count": 52,
   "metadata": {},
   "outputs": [
    {
     "ename": "AttributeError",
     "evalue": "'AnimalB' object has no attribute '_AnimalB__privado'",
     "output_type": "error",
     "traceback": [
      "\u001b[0;31m---------------------------------------------------------------------------\u001b[0m",
      "\u001b[0;31mAttributeError\u001b[0m                            Traceback (most recent call last)",
      "Cell \u001b[0;32mIn[52], line 2\u001b[0m\n\u001b[1;32m      1\u001b[0m animal \u001b[39m=\u001b[39m AnimalB(\u001b[39m'\u001b[39m\u001b[39mPulgas\u001b[39m\u001b[39m'\u001b[39m,\u001b[39mFalse\u001b[39;00m)\n\u001b[0;32m----> 2\u001b[0m animal\u001b[39m.\u001b[39;49mllamar_a_privado()\n",
      "Cell \u001b[0;32mIn[51], line 17\u001b[0m, in \u001b[0;36mAnimalB.llamar_a_privado\u001b[0;34m(self)\u001b[0m\n\u001b[1;32m     16\u001b[0m \u001b[39mdef\u001b[39;00m \u001b[39mllamar_a_privado\u001b[39m(\u001b[39mself\u001b[39m):\n\u001b[0;32m---> 17\u001b[0m     \u001b[39mself\u001b[39;49m\u001b[39m.\u001b[39;49m__privado()\n",
      "\u001b[0;31mAttributeError\u001b[0m: 'AnimalB' object has no attribute '_AnimalB__privado'"
     ]
    }
   ],
   "source": [
    "animal = AnimalB('Pulgas',False)\n",
    "animal.llamar_a_privado()"
   ]
  },
  {
   "attachments": {},
   "cell_type": "markdown",
   "metadata": {},
   "source": [
    "La clase `AnimalB` no puede acceder a un método privado que se encuentra en la clase `AnimalA`"
   ]
  },
  {
   "attachments": {},
   "cell_type": "markdown",
   "metadata": {},
   "source": [
    "# Composición"
   ]
  },
  {
   "cell_type": "code",
   "execution_count": 54,
   "metadata": {},
   "outputs": [],
   "source": [
    "class Motor:\n",
    "    def cilindraje(self):\n",
    "        print(\"2000 cc.\")\n",
    "\n",
    "class Llantas:\n",
    "    def cuantas(self):\n",
    "        print(\"4 llantas.\")\n",
    "\n",
    "class Auto:\n",
    "    def __init__(self):\n",
    "        self.motor = Motor()\n",
    "        self.llantas = Llantas()"
   ]
  },
  {
   "attachments": {},
   "cell_type": "markdown",
   "metadata": {},
   "source": [
    "`Motor` y `Llantas` dependen de que exista la clase `Auto`. Solo cuando existe una instancia de `Auto()` es cuando empienzan a existir instancias como parámetros de `Motor` y `Llantas`."
   ]
  },
  {
   "cell_type": "code",
   "execution_count": 55,
   "metadata": {},
   "outputs": [
    {
     "name": "stdout",
     "output_type": "stream",
     "text": [
      "2000 cc.\n"
     ]
    }
   ],
   "source": [
    "auto = Auto()\n",
    "auto.motor.cilindraje()"
   ]
  },
  {
   "cell_type": "code",
   "execution_count": 56,
   "metadata": {},
   "outputs": [
    {
     "name": "stdout",
     "output_type": "stream",
     "text": [
      "4 llantas.\n"
     ]
    }
   ],
   "source": [
    "auto.llantas.cuantas()"
   ]
  },
  {
   "attachments": {},
   "cell_type": "markdown",
   "metadata": {},
   "source": [
    "# Inyección de Dependencias\n",
    "\n",
    "Significa pasar como parámetro a un objeto de otra clase."
   ]
  },
  {
   "cell_type": "code",
   "execution_count": 57,
   "metadata": {},
   "outputs": [],
   "source": [
    "class Servicio:\n",
    "    def hacer_algo(self):\n",
    "        return \"Haciendo algo...\"\n",
    "\n",
    "class Cliente:\n",
    "    def __init__(self, servicio):\n",
    "        self.servicio = servicio\n",
    "    \n",
    "    def usar_servicio(self):\n",
    "        resultado = self.servicio.hacer_algo()\n",
    "        print(f\"Usando el servicio: {resultado}\")"
   ]
  },
  {
   "cell_type": "code",
   "execution_count": 59,
   "metadata": {},
   "outputs": [
    {
     "name": "stdout",
     "output_type": "stream",
     "text": [
      "Usando el servicio: Haciendo algo...\n"
     ]
    }
   ],
   "source": [
    "servicio = Servicio()\n",
    "cliente = Cliente(servicio)\n",
    "cliente.usar_servicio()"
   ]
  }
 ],
 "metadata": {
  "kernelspec": {
   "display_name": "Python 3",
   "language": "python",
   "name": "python3"
  },
  "language_info": {
   "codemirror_mode": {
    "name": "ipython",
    "version": 3
   },
   "file_extension": ".py",
   "mimetype": "text/x-python",
   "name": "python",
   "nbconvert_exporter": "python",
   "pygments_lexer": "ipython3",
   "version": "3.9.6"
  },
  "orig_nbformat": 4
 },
 "nbformat": 4,
 "nbformat_minor": 2
}
